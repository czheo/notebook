{
 "cells": [
  {
   "cell_type": "markdown",
   "metadata": {},
   "source": [
    "# Binary Search"
   ]
  },
  {
   "cell_type": "markdown",
   "metadata": {},
   "source": [
    "### Goal\n",
    "Find an item in a list\n",
    "\n",
    "- list must be *sorted*\n",
    "- list may be empty"
   ]
  },
  {
   "cell_type": "markdown",
   "metadata": {},
   "source": [
    "### Template"
   ]
  },
  {
   "cell_type": "code",
   "execution_count": 8,
   "metadata": {},
   "outputs": [],
   "source": [
    "def binary_search(lst, n):\n",
    "    \"\"\"\n",
    "    Given a sorted list and an integer, find out if the integer is in the list\n",
    "    \n",
    "    @params\n",
    "    lst: List[int]\n",
    "    n: int\n",
    "    \n",
    "    @return bool\n",
    "    \"\"\""
   ]
  },
  {
   "cell_type": "markdown",
   "metadata": {},
   "source": [
    "### Examples"
   ]
  },
  {
   "cell_type": "code",
   "execution_count": 24,
   "metadata": {},
   "outputs": [],
   "source": [
    "assert binary_search([1, 2, 5], 5) == True\n",
    "\n",
    "# list with an odd number of elements\n",
    "assert binary_search([1, 2, 3, 5, 6], 5) == True\n",
    "\n",
    "# list with an even number of elements\n",
    "assert binary_search([1, 5, 7, 8, 9, 10], 5) == True"
   ]
  },
  {
   "cell_type": "markdown",
   "metadata": {},
   "source": [
    "### Edge Cases"
   ]
  },
  {
   "cell_type": "code",
   "execution_count": 23,
   "metadata": {},
   "outputs": [],
   "source": [
    "# empty list\n",
    "assert binary_search([], 5) == False\n",
    "\n",
    "# list with one element\n",
    "assert binary_search([1], 5) == False\n",
    "assert binary_search([5], 5) == True\n",
    "\n",
    "# list with two elements\n",
    "assert binary_search([1, 5], 1) == True\n",
    "assert binary_search([1, 5], 5) == True\n",
    "assert binary_search([1, 5], 3) == False"
   ]
  },
  {
   "cell_type": "markdown",
   "metadata": {},
   "source": [
    "### Idea"
   ]
  },
  {
   "cell_type": "markdown",
   "metadata": {},
   "source": [
    "Find the middle position m of the list L and compare L[m] with n\n",
    "\n",
    "- If L[m] == n, return true\n",
    "- If L[m] > n, n must be in the first half of the list because the list is sorted. Search in the first half (recursively).\n",
    "- If L[m] < n, n must be in the second half of the list. Search in the second half (recursively)."
   ]
  },
  {
   "cell_type": "markdown",
   "metadata": {},
   "source": [
    "How to find m?\n",
    "- m = len(L) // 2 (Remember // means integer division in Python)\n",
    "- Examples:\n",
    "    - len(L) = 1, m = 0\n",
    "    - len(L) = 2, m = 1\n",
    "    - len(L) = 0, m = 0. L[m] will raise an error, and so this edge case need be handled."
   ]
  },
  {
   "cell_type": "markdown",
   "metadata": {},
   "source": [
    "How to get the first/second half of the list?\n",
    "- First half = L[:m]. Remember that this is right exclusive in Python. i.e. This means [L[0], L[1], ..., L[m-1]]\n",
    "- Second half = L[m+1:]"
   ]
  },
  {
   "cell_type": "markdown",
   "metadata": {},
   "source": [
    "### Precondition\n",
    "- List must be sorted\n",
    "- List may be empty\n",
    "\n",
    "### Invariant\n",
    "- We rule out a half of the list for each iteration.\n",
    "\n",
    "### Postcondition\n",
    "- If the final list has two elements, m = 1. No matter we rule out the first or second half, L[:1] has one element, and L[2:] has no element. We will fall into the case when L has zero or one element.\n",
    "- If the final list has one element, m = 0. We will check for L[0] == n. L[:0] and L[1:] both have zero element and so we will fall into the case when L has zero element.\n",
    "- If the final list has zero element, we handle this as an edge case specially.\n",
    "\n",
    "Therefore, it is the base case for our recursion when the list is empty.\n",
    "\n",
    "### Termination\n",
    "Based on our invariant and postcondition analysis, after each iteration the list becomes shorter. Thus, our algorithm will terminate eventually."
   ]
  },
  {
   "cell_type": "code",
   "execution_count": 13,
   "metadata": {},
   "outputs": [],
   "source": [
    "def binary_search(lst, n):   \n",
    "    # check for empty\n",
    "    if not lst:\n",
    "        return False\n",
    "    \n",
    "    m = len(lst) // 2\n",
    "    \n",
    "    if lst[m] == n:\n",
    "        return True\n",
    "    elif lst[m] > n:\n",
    "        return binary_search(lst[:m], n)\n",
    "    elif lst[m] < n:\n",
    "        return binary_search(lst[m+1:], n)"
   ]
  },
  {
   "cell_type": "markdown",
   "metadata": {},
   "source": [
    "### Optimization 1\n",
    "Recursion consumes memory stack. Can we avoid using recursion?\n",
    "\n",
    "We can use a while loop as below."
   ]
  },
  {
   "cell_type": "code",
   "execution_count": 21,
   "metadata": {},
   "outputs": [],
   "source": [
    "def binary_search(lst, n):\n",
    "    # precondition:\n",
    "    # lst may be empty or not\n",
    "    \n",
    "    while lst:\n",
    "        # invariant: lst must not be empty in the while loop\n",
    "        m = len(lst) // 2\n",
    "\n",
    "        if lst[m] == n:\n",
    "            return True\n",
    "        elif lst[m] > n:\n",
    "            lst = lst[:m]\n",
    "        elif lst[m] < n:\n",
    "            lst = lst[m+1:]\n",
    "    \n",
    "    # postcondition: lst is empty\n",
    "    return False"
   ]
  },
  {
   "cell_type": "markdown",
   "metadata": {},
   "source": [
    "### Optimization 2\n",
    "\n",
    "The slicing operation of list in Python always creates a new list, which consumes extra memory. Can we avoid slicing?\n",
    "\n",
    "We can try to remember the start and end position of the sublist as below."
   ]
  },
  {
   "cell_type": "code",
   "execution_count": 26,
   "metadata": {},
   "outputs": [],
   "source": [
    "def binary_search(lst, n):\n",
    "    start = 0\n",
    "    end = len(lst) # end exclusive\n",
    "    \n",
    "    while start < end:\n",
    "        m = (start + end) // 2\n",
    "\n",
    "        if lst[m] == n:\n",
    "            return True\n",
    "        elif lst[m] > n:\n",
    "            # move the end position to m.\n",
    "            end = m\n",
    "        elif lst[m] < n:\n",
    "            # move the start position to m + 1.\n",
    "            start = m + 1\n",
    "    \n",
    "    # postcondition: lst is empty\n",
    "    return False"
   ]
  }
 ],
 "metadata": {
  "kernelspec": {
   "display_name": "Python 3",
   "language": "python",
   "name": "python3"
  },
  "language_info": {
   "codemirror_mode": {
    "name": "ipython",
    "version": 3
   },
   "file_extension": ".py",
   "mimetype": "text/x-python",
   "name": "python",
   "nbconvert_exporter": "python",
   "pygments_lexer": "ipython3",
   "version": "3.6.0"
  }
 },
 "nbformat": 4,
 "nbformat_minor": 2
}
