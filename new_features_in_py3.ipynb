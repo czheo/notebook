{
 "cells": [
  {
   "cell_type": "markdown",
   "metadata": {},
   "source": [
    "# Some New Features in Python 3+"
   ]
  },
  {
   "cell_type": "markdown",
   "metadata": {},
   "source": [
    "# 1. f-string"
   ]
  },
  {
   "cell_type": "markdown",
   "metadata": {},
   "source": [
    "we can have a var in f-string"
   ]
  },
  {
   "cell_type": "code",
   "execution_count": 50,
   "metadata": {},
   "outputs": [
    {
     "name": "stdout",
     "output_type": "stream",
     "text": [
      "my name is czheo\n"
     ]
    }
   ],
   "source": [
    "name = 'czheo'\n",
    "print(f'my name is {name}')"
   ]
  },
  {
   "cell_type": "markdown",
   "metadata": {},
   "source": [
    "we can have an expression in f-string"
   ]
  },
  {
   "cell_type": "code",
   "execution_count": 51,
   "metadata": {},
   "outputs": [
    {
     "name": "stdout",
     "output_type": "stream",
     "text": [
      "43\n",
      "STR\n"
     ]
    }
   ],
   "source": [
    "print(f'{3 + 40}')\n",
    "print(f'{\"str\".upper()}')"
   ]
  },
  {
   "cell_type": "markdown",
   "metadata": {},
   "source": [
    "Number formatting: `<number>:<width>.<precision>`\n",
    "\n",
    "- width: the min length of the field\n",
    "- precision: the max number of digits "
   ]
  },
  {
   "cell_type": "code",
   "execution_count": 45,
   "metadata": {},
   "outputs": [
    {
     "name": "stdout",
     "output_type": "stream",
     "text": [
      "========\n",
      "   12.34\n",
      "00012.34\n",
      "    12.3\n"
     ]
    }
   ],
   "source": [
    "n = 12.34\n",
    "print(\"=\" * 8) # an 8 char long ruler\n",
    "print(f'{n:8}') # fill spaces. note that \".\" counts one char\n",
    "print(f'{n:08}') # fill zeros\n",
    "print(f'{n:8.1f}') # preserve 1 digit"
   ]
  },
  {
   "cell_type": "markdown",
   "metadata": {},
   "source": [
    "Alignment\n",
    "\n",
    "- \"<\": left-aligned\n",
    "- \">\": right-aligned\n",
    "- \"=\": center"
   ]
  },
  {
   "cell_type": "code",
   "execution_count": 55,
   "metadata": {},
   "outputs": [
    {
     "name": "stdout",
     "output_type": "stream",
     "text": [
      "========\n",
      "12.3    \n",
      "    12.3\n",
      "  12.3  \n",
      "  str   \n"
     ]
    }
   ],
   "source": [
    "n = 12.34\n",
    "print(\"=\" * 8)\n",
    "print(f'{n:<8.1f}') # left align\n",
    "print(f'{n:>8.1f}') # right align\n",
    "print(f'{n:^8.1f}') # centered\n",
    "print(f'{\"str\":^8}') # centerd string"
   ]
  },
  {
   "cell_type": "markdown",
   "metadata": {},
   "source": [
    "Grouping"
   ]
  },
  {
   "cell_type": "code",
   "execution_count": 54,
   "metadata": {},
   "outputs": [
    {
     "name": "stdout",
     "output_type": "stream",
     "text": [
      "1,234,567,890\n"
     ]
    }
   ],
   "source": [
    "n = 1234567890\n",
    "print(f'{n:,}')"
   ]
  },
  {
   "cell_type": "markdown",
   "metadata": {},
   "source": [
    "# 2. Unpacking"
   ]
  },
  {
   "cell_type": "code",
   "execution_count": 67,
   "metadata": {},
   "outputs": [
    {
     "name": "stdout",
     "output_type": "stream",
     "text": [
      "[1, 2, 3]\n",
      "1 2 3\n"
     ]
    }
   ],
   "source": [
    "print([1,2,3])\n",
    "print(*[1,2,3]) # equiv to print(1, 2, 3)"
   ]
  },
  {
   "cell_type": "code",
   "execution_count": 71,
   "metadata": {},
   "outputs": [
    {
     "name": "stdout",
     "output_type": "stream",
     "text": [
      "1 2 3\n"
     ]
    }
   ],
   "source": [
    "def fn(a, b, c):\n",
    "    print(a, b, c)\n",
    "    \n",
    "fn(**{\"a\": 1, \"b\": 2, \"c\": 3}) # equiv to kwargs = {\"a\": 1, \"b\": 2, \"c\": 3}"
   ]
  },
  {
   "cell_type": "code",
   "execution_count": 77,
   "metadata": {},
   "outputs": [
    {
     "name": "stdout",
     "output_type": "stream",
     "text": [
      "[0, 1, 2]\n",
      "(0, 1, 2)\n",
      "{0, 1, 2}\n",
      "{'a': 1, 'b': 2, 'c': 3}\n"
     ]
    }
   ],
   "source": [
    "print([*range(3)]) # unpack in list\n",
    "print((*range(3),)) # unpack in tuple\n",
    "print({*range(3)}) # unpack in set\n",
    "d = {\"b\": 2, \"c\": 3}\n",
    "print({\"a\": 1, **d}) # unpack in dict"
   ]
  },
  {
   "cell_type": "code",
   "execution_count": 85,
   "metadata": {},
   "outputs": [
    {
     "name": "stdout",
     "output_type": "stream",
     "text": [
      "1\n",
      "2\n",
      "[3, 4, 5]\n"
     ]
    }
   ],
   "source": [
    "fst,snd,*rest = [1,2,3,4,5]\n",
    "print(fst)\n",
    "print(snd)\n",
    "print(rest)"
   ]
  },
  {
   "cell_type": "code",
   "execution_count": 96,
   "metadata": {},
   "outputs": [
    {
     "name": "stdout",
     "output_type": "stream",
     "text": [
      "1\n",
      "[2, 3, 4]\n",
      "5\n"
     ]
    }
   ],
   "source": [
    "fst,*rest,lst = [1,2,3,4,5]\n",
    "print(fst)\n",
    "print(rest)\n",
    "print(lst)"
   ]
  },
  {
   "cell_type": "markdown",
   "metadata": {},
   "source": [
    "Convert a range/generator to list"
   ]
  },
  {
   "cell_type": "code",
   "execution_count": 101,
   "metadata": {},
   "outputs": [
    {
     "name": "stdout",
     "output_type": "stream",
     "text": [
      "[0, 1, 2]\n",
      "[0, 1, 2]\n"
     ]
    }
   ],
   "source": [
    "lst = list(range(3))\n",
    "print(lst)\n",
    "\n",
    "# equiv to above, but shorter code\n",
    "*lst, = range(3)\n",
    "print(lst)"
   ]
  }
 ],
 "metadata": {
  "kernelspec": {
   "display_name": "Python 3",
   "language": "python",
   "name": "python3"
  },
  "language_info": {
   "codemirror_mode": {
    "name": "ipython",
    "version": 3
   },
   "file_extension": ".py",
   "mimetype": "text/x-python",
   "name": "python",
   "nbconvert_exporter": "python",
   "pygments_lexer": "ipython3",
   "version": "3.6.3"
  }
 },
 "nbformat": 4,
 "nbformat_minor": 2
}
